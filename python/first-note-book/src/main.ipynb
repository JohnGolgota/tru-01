{
 "cells": [
  {
   "cell_type": "markdown",
   "metadata": {},
   "source": [
    "# Python and MySQL\n",
    "quiero hacer algo de... ciencia de datos?\n",
    "porque?... no se..."
   ]
  },
  {
   "cell_type": "code",
   "execution_count": null,
   "metadata": {},
   "outputs": [],
   "source": [
    "import pandas as pd\n",
    "import mysql.connector"
   ]
  },
  {
   "cell_type": "markdown",
   "metadata": {},
   "source": [
    "Función para conectarse a la base de datos"
   ]
  },
  {
   "cell_type": "code",
   "execution_count": null,
   "metadata": {},
   "outputs": [],
   "source": [
    "def connect_to_database():\n",
    "    return mysql.connector.connect(\n",
    "        host='localhost',      # Reemplaza con la dirección de tu servidor MySQL\n",
    "        user='root',   # Reemplaza con el nombre de usuario de la base de datos\n",
    "        password='',   # Reemplaza con la contraseña del usuario\n",
    "        database='import_test'  # Reemplaza con el nombre de la base de datos que deseas utilizar\n",
    "    )"
   ]
  },
  {
   "cell_type": "markdown",
   "metadata": {},
   "source": [
    "Leer el archivo CSV y cargarlo en un DataFrame de Pandas"
   ]
  },
  {
   "cell_type": "code",
   "execution_count": null,
   "metadata": {},
   "outputs": [],
   "source": [
    "df = pd.read_csv('./archivo.csv')  # Reemplaza 'ruta_del_archivo.csv' con la ruta de tu archivo CSV\n",
    "df"
   ]
  },
  {
   "cell_type": "markdown",
   "metadata": {},
   "source": [
    "Comprobar registros duplicados en la base de datos\n",
    "\n",
    "Supongamos que el número de documento es la columna que identifica un registro único\n",
    "\n",
    "Asegúrate de modificar 'Numero de Documento' si el nombre de la columna es diferente en el archivo CSV"
   ]
  },
  {
   "cell_type": "code",
   "execution_count": null,
   "metadata": {},
   "outputs": [],
   "source": [
    "existing_documents = set()\n",
    "existing_documents"
   ]
  },
  {
   "cell_type": "code",
   "execution_count": null,
   "metadata": {},
   "outputs": [],
   "source": [
    "\n",
    "try:\n",
    "    connection = connect_to_database()\n",
    "    cursor = connection.cursor()\n",
    "\n",
    "    # Obtener los números de documento que ya existen en la base de datos\n",
    "    query = \"SELECT Numero_Documento FROM `import_try`\"  # Reemplaza 'nombre_de_la_tabla' con el nombre de tu tabla\n",
    "    cursor.execute(query)\n",
    "    fetch_a = cursor.fetchall()\n",
    "    for doc in fetch_a:\n",
    "        existing_documents.add(doc[0])\n",
    "\n",
    "except mysql.connector.Error as error:\n",
    "    print(\"Error al conectarse a la base de datos:\", error)\n",
    "\n",
    "finally:\n",
    "    if connection.is_connected():\n",
    "        cursor.close()\n",
    "        connection.close()\n",
    "\n",
    "fetch_a"
   ]
  },
  {
   "cell_type": "markdown",
   "metadata": {},
   "source": [
    "Filtrar los registros que no están en la base de datos\n",
    "\n",
    "Insertar los registros nuevos en la base de datos"
   ]
  },
  {
   "cell_type": "code",
   "execution_count": null,
   "metadata": {},
   "outputs": [],
   "source": [
    "new_records = df[~df['Número de Documento'].isin(existing_documents)]\n",
    "new_records"
   ]
  },
  {
   "cell_type": "code",
   "execution_count": null,
   "metadata": {},
   "outputs": [],
   "source": [
    "try:\n",
    "    connection = connect_to_database()\n",
    "    cursor = connection.cursor()\n",
    "\n",
    "    for _, row in new_records.iterrows():\n",
    "        # Supongamos que 'nombre_de_la_tabla' es el nombre de la tabla en la que deseas insertar los registros\n",
    "        # Asegúrate de reemplazar los nombres de columna según corresponda\n",
    "        query = f\"\"\"INSERT INTO import_try (Fecha, Reportar_a, Tipo_Documento, Numero_Documento,\n",
    "                    Nombres, Telefono, Email, Direccion, Categoria, Descripcion, Cargar_Imagenes)\n",
    "                    VALUES ('{row['Hora de envío']}', '{row['Reportar a']}', '{row['Tipo Documento']}',\n",
    "                    {row['Número de Documento']}, '{row['Nombres y Apellidos']}', '{row['Teléfono']}',\n",
    "                    '{row['Email']}', '{row['Dirección del Inmueble']}', '{row['Categoría']}',\n",
    "                    '{row['Descripción']}', '{row['Cargar Imágenes']}')\"\"\"\n",
    "        cursor.execute(query)\n",
    "\n",
    "    connection.commit()\n",
    "\n",
    "except mysql.connector.Error as error:\n",
    "    print(\"Error al conectarse a la base de datos:\", error)\n",
    "\n",
    "finally:\n",
    "    if connection.is_connected():\n",
    "        cursor.close()\n",
    "        connection.close()"
   ]
  }
 ],
 "metadata": {
  "kernelspec": {
   "display_name": "Python 3",
   "language": "python",
   "name": "python3"
  },
  "language_info": {
   "codemirror_mode": {
    "name": "ipython",
    "version": 3
   },
   "file_extension": ".py",
   "mimetype": "text/x-python",
   "name": "python",
   "nbconvert_exporter": "python",
   "pygments_lexer": "ipython3",
   "version": "3.10.8"
  },
  "orig_nbformat": 4
 },
 "nbformat": 4,
 "nbformat_minor": 2
}
